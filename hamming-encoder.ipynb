{
 "cells": [
  {
   "cell_type": "markdown",
   "metadata": {},
   "source": [
    "# Código de Hamming\n",
    "\n",
    "Cuando uno debe mandar un número dado de resultados, a cada uno de estos resultados se le debe asignar un nombre en binario. La primera aproximación es la de asignar a todos un nombre con la misma cantidad de bits, por ejemplo, asignando:\n",
    "\n",
    "- 00\n",
    "- 01\n",
    "- 10\n",
    "- 11\n",
    "\n",
    "a un grupo de 4 resultados. Lo que funciona bien cuando los 4 resultados tienen la misma probabilidad de salir. \n",
    "Sin embargo, esto nos da que por cada uno de los resultados se deben andar 2 bits y cuando las probabilidades son distintas es posible diseñar un método que permita asignar nombres más cortos a los resutados más probables y nombres largos a los menos probabilidad. Si eso se hace, es posible calcular la longitud promedio por resultado y obtener que en promedio los mensajes que se mandan son más cortos. Es ahí donde entra la codificación de Hamming para desarrollar el método más eficiente de asignar nombres a un grupo de resultados con distintas probabilidades conocidas.\n",
    "\n",
    "Si en el caso anterior se tiene que los resutados tienen probabilidades de 0.5, 0.25, 0.125, 0.125 respectivamente, entonces se les pueden asignar los siguientes nombres:\n",
    "\n",
    "- 0\n",
    "- 10\n",
    "- 110\n",
    "- 111\n",
    "\n",
    "En este caso lo que tenemos es que el resultado uno, que sale la mitad de las veces, tiene una longitud de apenas 1 bit. Hay algunos resultados que son más largos (3 bits en este caso) pero que aparecen rara vez por su baja probabilidad. En este caso es posible calcular la longitud promedio como:\n",
    "\n",
    "\\begin{equation}\n",
    "\\langle L \\rangle = \\sum_i p_i * l_i = 0.5 * 1 \\text{bit} + 0.25 * 2 \\text{bit} + 0.125 * 3 \\text{bit} + 0.125 * 3 \\text{bit} = 1.75 \\text{bit}\n",
    "\\end{equation}\n",
    "\n",
    "donde se puede ver que obtenemos que en promedio la lóngitud de un resultado es menor que 2 y se obtiene una códificación más eféctiva que la tradicional."
   ]
  },
  {
   "cell_type": "markdown",
   "metadata": {},
   "source": [
    "## ¿Cómo funciona?\n",
    "\n",
    "En este punto surgen 2 preguntas sobre el funcionamiento de esta codificación. En primer lugar, surge la pregunta de cómo se hace, cómo se encuentra está forma eficiente de codificar la información. En segundo surge la duda de cómo hago yo para interpretar una secuencia de datos. La primera de estas dudas se trabajará ahora con más detalle, entonces resolvamos aca la segunda.\n",
    "\n",
    "Con la forma tradicional, se sabe que en una secuencia de información que se recibe, cada cierto número de bits tengo un resultado. Por ejemplo, en el caso que se trabajo en el punto anterior, sé que cada 2 bits tengo un resultado. ¿Cómo hago con la otra codificación en la que algunos resultados tienen más y otros menos bits? La clave está en que ninguno de los nombres comienza igual, luego una secuencia dada de datos es única para ese resultado. Veamos un ejemplo.\n",
    "\n",
    "Usando el ejemplo de 4 resultados con las probabilidades dadas arriba, se recibe la siguiente secuencia de datos que contiene 8 bits:\n",
    "\n",
    "```\n",
    "00101110\n",
    "```\n",
    "\n",
    "Usando la codificación usual, en este caso se tiene que hay 4 resultados y cada 2 bits representa uno de estos. En cambio, con la codificación de Hamming lo que se debe hacer es leer de izquierda a derecha e ir viendo el coportamiento bit por bit. Al leer el primer bit, si es 0, entonces se tiene el primer resultado porque es e único que empieza con 0. Si es 1 se sabe que es uno de los otros 3, luego se mira el siguiente bit con el que se realiza el mismo proceso. Luego se separa de la siguiente forma:\n",
    "\n",
    "```\n",
    "0|0|10|111|0|\n",
    "```\n",
    "\n",
    "En este caso, se obtiene que con una misma secuencia de 8 digitos, ahora es posible mandar 5 resultados optimizando la forma de codificar la información. Esto puede ser muy útil cuando cuando se quiere enviar la información y esto tiene un costo con lo que es posible ahorrar."
   ]
  },
  {
   "cell_type": "markdown",
   "metadata": {},
   "source": [
    "## Algoritmo\n",
    "\n",
    "Ahora, para responder nuestra pregunta inicial, tenemos las siguientes condiciones:\n",
    "\n",
    "- **Entrada:** Una lista de probabilidades correspondientes a cada una de los posibles resultados.\n",
    "\n",
    "- **Salida:** El código de Hamming correspondiente a cada uno de dichos resultados.\n",
    "\n",
    "El proceso a usar para obtener la salida deseada es, entonces:\n",
    "\n",
    "1. Ordenar la lista de mayor a menor.\n",
    "\n",
    "2. Sumar los dos últimos elementos de la lista.\n",
    "\n",
    "3. Reescriba la lista cambiando los 2 últimos elementos por la suma en el paso 2 y ordenarla de mayor a menor.\n",
    "\n",
    "4. Asocie la posición de la suma a los 2 elementos que la conforman.\n",
    "\n",
    "5. Repita pasos 2-4 hasta que la lista se haya reducido a una lista de 2 elementos.\n",
    "\n",
    "6. A los números de la lista original que conforman el elemento menor, asigneles un 1.\n",
    "\n",
    "7. A los otros, asigneles un 0.\n",
    "\n",
    "8. Repita los pasos 6 y 7 usando los dos menores números en las listas del proceso de reducción hasta que regrese a la lista original.\n",
    "\n",
    "En este punto, cada elemento de la lista original, tiene su código de hamming asociado. \n",
    "\n",
    "Hagamos este proceso manual una vez con e mismo ejemplo de arriba para ver de donde sale el código que usamos:\n",
    "\n",
    "Probabilidades: (0.5, 0.25, 0.125, 0.125)\n",
    "\n",
    "#### Paso 1: Ordenar\n",
    "\n",
    "- 0.5\n",
    "- 0.25\n",
    "- 0.125\n",
    "- 0.125\n",
    "\n",
    "#### Paso 2: Sumar\n",
    "\n",
    "$0.125 + 0.125 = 0.25 $\n",
    "\n",
    "#### Paso 3: Reescribir\n",
    "\n",
    "- 0.5\n",
    "- 0.25\n",
    "- 0.25\n",
    "\n",
    "#### Paso 4: Asociar\n",
    "\n",
    "En este caso el últimmo digito se asocia a los 2 últimos de la lista anterior.\n",
    "\n",
    "#### Paso 5: Seguir\n",
    "\n",
    "Repito este proceso y almaceno la historia de forma al final la lista me queda reducida a \n",
    "\n",
    "- 0.5\n",
    "- 0.5\n",
    "\n",
    "Dónde se tiene que la historia de os 4 en este proceso es\n",
    "\n",
    "- 111\n",
    "- 222\n",
    "- 332\n",
    "- 432\n",
    "\n",
    "#### Pasos 6 y 7: códificar\n",
    "\n",
    "El elemento menor en esta ista final está conformado por los resultados 2, 3 y 4 a esos les asigno un 1 y al otro se le asigna un 0. Luego se tiene:\n",
    "\n",
    "- 0\n",
    "- 1\n",
    "- 1\n",
    "- 1\n",
    "\n",
    "#### Paso 8: Continuar\n",
    "\n",
    "Se repite eso en as iteraciones, entoncespaso a ver el paso anterior en la iteración y reviso los 2 últimos eementos y asi sucesivamente. Se obtiene entonces:\n",
    "\n",
    "- 0\n",
    "- 10\n",
    "- 110\n",
    "- 111"
   ]
  },
  {
   "cell_type": "markdown",
   "metadata": {},
   "source": [
    "## Implementación Computacional\n",
    "### Entrada"
   ]
  },
  {
   "cell_type": "code",
   "execution_count": 2,
   "metadata": {},
   "outputs": [],
   "source": [
    "# Set up:\n",
    "entrada = (0.5, 0.25, 0.125, 0.125)"
   ]
  },
  {
   "cell_type": "markdown",
   "metadata": {},
   "source": [
    "### Primera parte: Reducción\n",
    "Acá definiremos los pasos 1 a 5. Es importante almacenar el orden en este proceso de reducción."
   ]
  },
  {
   "cell_type": "code",
   "execution_count": 3,
   "metadata": {},
   "outputs": [],
   "source": [
    "def reduce_step(ordered, history):\n",
    "    n = len(ordered)\n",
    "    # Paso 1: La lista de probabilidades entra ya ordenada. Esto se implementa en las funciones siguientes.\n",
    "    # Paso 2:\n",
    "    sum_last2 = ordered[-1] + ordered[-2]\n",
    "    # Paso 3:\n",
    "    nlist = [i for i in ordered[:-2]] + [sum_last2]\n",
    "    sorted_nlist = sorted(nlist, reverse = True)\n",
    "    # Paso 4:\n",
    "    index = sorted_nlist.index(sum_last2) \n",
    "    \n",
    "    for i, element in enumerate(history):\n",
    "        if element[-1] < index:\n",
    "            history[i].append(element[-1])\n",
    "        elif (element[-1] >= index) and (element[-1] < n-2):\n",
    "            history[i].append(element[-1] + 1)\n",
    "        elif element[-1] >= n-2:\n",
    "            history[i].append(index)\n",
    "        \n",
    "    return sorted_nlist\n",
    "    \n",
    "def reduce_list(probabilities):\n",
    "    n = 1\n",
    "    hist = [[i] for i in range(len(probabilities))]\n",
    "    # Implementacion paso 1:\n",
    "    step = sorted([i for i in probabilities], reverse=True)\n",
    "\n",
    "    # Paso 5:\n",
    "    while len(step) > 2:\n",
    "        step = reduce_step(step, hist)\n",
    "        n+=1\n",
    "    return hist, n"
   ]
  },
  {
   "cell_type": "markdown",
   "metadata": {},
   "source": [
    "### Segunda Parte: Almacenar y generar el código de hamming\n",
    "Ejecutamos los pasos del 1 al 5, y realizamos los pasos del 6 al 8"
   ]
  },
  {
   "cell_type": "code",
   "execution_count": 4,
   "metadata": {},
   "outputs": [],
   "source": [
    "def hamming(probabilities):\n",
    "    # Ejecutar pasos del 1 al 5\n",
    "    ordered_prob = sorted(probabilities, reverse = True)\n",
    "    history, steps = reduce_list(ordered_prob)\n",
    "    hamming = ['' for p in probabilities]\n",
    "    for step in range(steps):\n",
    "        for n, item in enumerate(history):\n",
    "            # Paso 6:\n",
    "            if item[-(step+1)] == step:\n",
    "                hamming[n] += '0'\n",
    "            # Paso 7:\n",
    "            elif item[-(step+1)] == step + 1:\n",
    "                hamming[n] += '1'\n",
    "\n",
    "    # Paso 8:\n",
    "    return tuple(zip(ordered_prob, hamming))"
   ]
  },
  {
   "cell_type": "markdown",
   "metadata": {},
   "source": [
    "### Salida"
   ]
  },
  {
   "cell_type": "code",
   "execution_count": 5,
   "metadata": {},
   "outputs": [
    {
     "data": {
      "text/plain": [
       "((0.5, '1'), (0.25, '01'), (0.125, '000'), (0.125, '001'))"
      ]
     },
     "execution_count": 5,
     "metadata": {},
     "output_type": "execute_result"
    }
   ],
   "source": [
    "test = hamming(list(entrada))\n",
    "\n",
    "test"
   ]
  },
  {
   "cell_type": "markdown",
   "metadata": {},
   "source": [
    "#### Nota \n",
    "\n",
    "A la hora de almacenar la historia, si el resultado de la suma da un valor igual al de otra de las probabilidades, el código le hace el seguimiento en la historia a la primera de estas probabilidades iguales, mientras que uno al hacerlo manual suele escoger la última. Esto hace que en algunos casos la codificación que se obtiene del código puede ser diferente a la que obtiene uno manual. Sin embargo, en ambos casos la longitud promedio se mantiene igual ya que cuando esto sucede, las probabilidades son las mismas y da igual a cual de las 2 le doy el bit adicional."
   ]
  },
  {
   "cell_type": "markdown",
   "metadata": {},
   "source": [
    "### Longitud promedio\n",
    "\n",
    "Dado que la ventaja que trae esta codificación se ve representada en la longitud promedio, entonces se implementa ahora una función que calcule esta longitud promedio."
   ]
  },
  {
   "cell_type": "code",
   "execution_count": 6,
   "metadata": {},
   "outputs": [
    {
     "data": {
      "text/plain": [
       "1.75"
      ]
     },
     "execution_count": 6,
     "metadata": {},
     "output_type": "execute_result"
    }
   ],
   "source": [
    "def longitud_promedio(hamming):\n",
    "    L=0\n",
    "    for p, c in hamming:\n",
    "        L += p * len(c)\n",
    "        \n",
    "    return L\n",
    "\n",
    "longitud_promedio(test)"
   ]
  },
  {
   "cell_type": "markdown",
   "metadata": {},
   "source": [
    "## Pruebas al Algoritmo\n",
    "Comprobamos el algoritmo con diferentes entradas"
   ]
  },
  {
   "cell_type": "code",
   "execution_count": 7,
   "metadata": {},
   "outputs": [
    {
     "data": {
      "text/plain": [
       "((0.512, '0'),\n",
       " (0.128, '100'),\n",
       " (0.128, '101'),\n",
       " (0.128, '110'),\n",
       " (0.032, '11100'),\n",
       " (0.032, '11101'),\n",
       " (0.032, '11110'),\n",
       " (0.008, '11111'))"
      ]
     },
     "execution_count": 7,
     "metadata": {},
     "output_type": "execute_result"
    }
   ],
   "source": [
    "entrada2 = (0.512, 0.128, 0.128, 0.128, 0.032, 0.032, 0.032, 0.008)\n",
    "code = hamming(entrada2)\n",
    "code"
   ]
  },
  {
   "cell_type": "markdown",
   "metadata": {},
   "source": [
    "Y hallamos la longitud promedio:"
   ]
  },
  {
   "cell_type": "code",
   "execution_count": 8,
   "metadata": {},
   "outputs": [
    {
     "data": {
      "text/plain": [
       "2.184"
      ]
     },
     "execution_count": 8,
     "metadata": {},
     "output_type": "execute_result"
    }
   ],
   "source": [
    "longitud_promedio(code)"
   ]
  },
  {
   "cell_type": "markdown",
   "metadata": {},
   "source": [
    "Ahora con otra entrada:"
   ]
  },
  {
   "cell_type": "code",
   "execution_count": 9,
   "metadata": {},
   "outputs": [
    {
     "data": {
      "text/plain": [
       "((0.81, '0'), (0.09, '11'), (0.09, '100'), (0.01, '101'))"
      ]
     },
     "execution_count": 9,
     "metadata": {},
     "output_type": "execute_result"
    }
   ],
   "source": [
    "entrada3 = (0.81, 0.09, 0.09, 0.01)\n",
    "code = hamming(entrada3)\n",
    "code"
   ]
  },
  {
   "cell_type": "markdown",
   "metadata": {},
   "source": [
    "Con longitud promedio"
   ]
  },
  {
   "cell_type": "code",
   "execution_count": 10,
   "metadata": {},
   "outputs": [
    {
     "data": {
      "text/plain": [
       "1.29"
      ]
     },
     "execution_count": 10,
     "metadata": {},
     "output_type": "execute_result"
    }
   ],
   "source": [
    "longitud_promedio(code)"
   ]
  },
  {
   "cell_type": "markdown",
   "metadata": {},
   "source": [
    "Y finalmente con una última entrada de prueba:"
   ]
  },
  {
   "cell_type": "code",
   "execution_count": 11,
   "metadata": {
    "scrolled": true
   },
   "outputs": [
    {
     "data": {
      "text/plain": [
       "((0.4, '1'),\n",
       " (0.2, '000'),\n",
       " (0.15, '010'),\n",
       " (0.1, '0010'),\n",
       " (0.05, '0110'),\n",
       " (0.05, '0111'),\n",
       " (0.025, '00110'),\n",
       " (0.025, '00111'))"
      ]
     },
     "execution_count": 11,
     "metadata": {},
     "output_type": "execute_result"
    }
   ],
   "source": [
    "entrada4 = (0.4, 0.15, 0.2, 0.05, 0.1, 0.05, 0.025, 0.025)\n",
    "code = hamming(entrada4)\n",
    "code"
   ]
  },
  {
   "cell_type": "markdown",
   "metadata": {},
   "source": [
    "Con longitud promedio"
   ]
  },
  {
   "cell_type": "code",
   "execution_count": 12,
   "metadata": {},
   "outputs": [
    {
     "data": {
      "text/plain": [
       "2.5000000000000004"
      ]
     },
     "execution_count": 12,
     "metadata": {},
     "output_type": "execute_result"
    }
   ],
   "source": [
    "longitud_promedio(code)"
   ]
  },
  {
   "cell_type": "markdown",
   "metadata": {},
   "source": [
    "## Entropía\n",
    "\n",
    "Dado que estamos hablando de un numero dado de resultados posibles con una probabilidad dada, es posible entonces tomar los resultados como los posibles estados de un ensamble y se puede medir la entropía del sistema.\n",
    "\n",
    "La información (en bits) que se obtiene en cada uno de los resultados esta dada por $I_i = -\\log_2{p_i} $ y la entropía total está dada por la formula de Gibbs:\n",
    "\n",
    "\\begin{equation}\n",
    "S = \\sum_i p_i I_i\n",
    "\\end{equation}\n",
    "\n",
    "Implementemos una función para esto."
   ]
  },
  {
   "cell_type": "code",
   "execution_count": 13,
   "metadata": {},
   "outputs": [
    {
     "data": {
      "text/plain": [
       "1.75"
      ]
     },
     "execution_count": 13,
     "metadata": {},
     "output_type": "execute_result"
    }
   ],
   "source": [
    "import numpy as np\n",
    "\n",
    "def entropia(hamming):\n",
    "    S = 0\n",
    "    for p, c in hamming:\n",
    "        S += p*np.log2(p)\n",
    "\n",
    "    return -1*S\n",
    "\n",
    "entropia(test)"
   ]
  },
  {
   "cell_type": "markdown",
   "metadata": {},
   "source": [
    "Dado que la entropía define la cantidad de información promedio que se recibe con cada resultado en bits, entonces define también la longitud promedio minima que se puede lograr en una codificación, ya que si la codificación de los resultados tiene una longitud promedio menor, entonces se estaría perdiendo información en el envío. Por lo tanto, en la celda anterior se puede ver que usando el método de Hamming en la prueba, se obtiene una codificación en el que la lóngitud promedio es igual a la entropía, es decir, el mínimo."
   ]
  },
  {
   "cell_type": "markdown",
   "metadata": {},
   "source": [
    "### ¿Qué sucede cuando se tiene únicamente 2 resutados? \n",
    "\n",
    "Vamos a trabajar acá un ejemplo para ver otras formas en las que se puede aplicar este código para optimizar la codificación de información. Supongamos que se tiene una situación con unicamente 2 resultados posibles, el primero $p_1$ tiene una probabilidad de 0.8 de salir y el segundo $p_2$ de 0.2. "
   ]
  },
  {
   "cell_type": "code",
   "execution_count": 14,
   "metadata": {
    "scrolled": true
   },
   "outputs": [],
   "source": [
    "probabilidades = (0.8, 0.2)"
   ]
  },
  {
   "cell_type": "markdown",
   "metadata": {},
   "source": [
    "El código para esta situación es sencillo, pues simplemente se le pone 0 a un resultado y 1 al otro. Dado que cada resultado tiene un número entero de bits, eso es lo mínimo y el método de Hamming dá el mismo resultado. Este código tiene una longitud promedio de 1 bit."
   ]
  },
  {
   "cell_type": "code",
   "execution_count": 15,
   "metadata": {},
   "outputs": [
    {
     "data": {
      "text/plain": [
       "((0.8, '0'), (0.2, '1'))"
      ]
     },
     "execution_count": 15,
     "metadata": {},
     "output_type": "execute_result"
    }
   ],
   "source": [
    "code = hamming(probabilidades)\n",
    "code"
   ]
  },
  {
   "cell_type": "markdown",
   "metadata": {},
   "source": [
    "#### Entropía\n",
    "\n",
    "Calculemos entonces la entropía de esta situación."
   ]
  },
  {
   "cell_type": "code",
   "execution_count": 16,
   "metadata": {},
   "outputs": [
    {
     "data": {
      "text/plain": [
       "0.7219280948873623"
      ]
     },
     "execution_count": 16,
     "metadata": {},
     "output_type": "execute_result"
    }
   ],
   "source": [
    "S = entropia(code)\n",
    "S"
   ]
  },
  {
   "cell_type": "markdown",
   "metadata": {},
   "source": [
    "Se observa que en este caso la entropía da un número menor que la longitud, luego es posible imaginar que se puede optimizar aun más el envío de dicha información. Para esto, lo que se propone es mandar la información por paquetes de N resultados. Por ejemplo, para $N = 2$ se tiene ahora que los paquetes pueden ir de 4 formas:\n",
    "\n",
    "- $p_1p_1$\n",
    "\n",
    "- $p_1p_2$\n",
    "\n",
    "- $p_2p_1$\n",
    "\n",
    "- $p_2p_2$\n",
    "\n",
    "Y dado que cada resultado en el paquete corresponde a mediciones diferentes, entonces son independientes y por tanto, la probabilidad de cada paquete está dada por la multiplicación de las probabilidades de cada uno de los resultados que conforman el paquete. En este caso, se tiene:\n",
    "\n",
    "- $p_1p_1 = 0.64$\n",
    "\n",
    "- $p_1p_2 = 0.16$\n",
    "\n",
    "- $p_2p_1 = 0.16$\n",
    "\n",
    "- $p_2p_2 = 0.04$\n",
    "\n",
    "Veamos entonces como es el código para este sistema de paquetes: "
   ]
  },
  {
   "cell_type": "code",
   "execution_count": 17,
   "metadata": {},
   "outputs": [
    {
     "data": {
      "text/plain": [
       "((0.64, '0'), (0.16, '11'), (0.16, '100'), (0.04, '101'))"
      ]
     },
     "execution_count": 17,
     "metadata": {},
     "output_type": "execute_result"
    }
   ],
   "source": [
    "packet_2 = (0.64, 0.16, 0.16, 0.04)\n",
    "code = hamming(packet_2)\n",
    "code"
   ]
  },
  {
   "cell_type": "markdown",
   "metadata": {},
   "source": [
    "##### Nota \n",
    "\n",
    "Es importante tener en cuenta que la longitud promedio del código representa la longitud promedio para mandar N resultados y por tanto es necesario dividir entre N para encontrar la longitud promedio por cada resultado. Luego vamos a redefinir una función de ongitud que tome el número de resultados por paquete para encontrar la longitud promedio por cada resultado. "
   ]
  },
  {
   "cell_type": "code",
   "execution_count": 18,
   "metadata": {},
   "outputs": [
    {
     "data": {
      "text/plain": [
       "0.78"
      ]
     },
     "execution_count": 18,
     "metadata": {},
     "output_type": "execute_result"
    }
   ],
   "source": [
    "def longitud_por_resultado(hamming, N=1):\n",
    "    return longitud_promedio(hamming) / N\n",
    "\n",
    "l_prom = longitud_por_resultado(code, 2)\n",
    "l_prom"
   ]
  },
  {
   "cell_type": "markdown",
   "metadata": {},
   "source": [
    "Con este resultado se puede ver como el mandar paquetes si sirve para optimizar la codificación de la información. Estudiemos entonces que sucede a medida que el número de resultados por paquete va aumentando. Para esto, se desarrolla una función que permita facimente encontrar las probabilidades de los paquetes de N resultados."
   ]
  },
  {
   "cell_type": "code",
   "execution_count": 19,
   "metadata": {},
   "outputs": [
    {
     "data": {
      "text/plain": [
       "(0.6400000000000001,\n",
       " 0.16000000000000003,\n",
       " 0.16000000000000003,\n",
       " 0.04000000000000001)"
      ]
     },
     "execution_count": 19,
     "metadata": {},
     "output_type": "execute_result"
    }
   ],
   "source": [
    "from itertools import product\n",
    "\n",
    "def packet_probabilities(results, N):\n",
    "    combination = product(results, repeat=N)\n",
    "    packet = []\n",
    "    for i in combination:\n",
    "        prod = 1\n",
    "        for j in i:\n",
    "            prod *= j\n",
    "        \n",
    "        packet.append(prod)\n",
    "            \n",
    "    return tuple(packet)\n",
    "\n",
    "packet_probabilities(probabilidades, 2)"
   ]
  },
  {
   "cell_type": "markdown",
   "metadata": {},
   "source": [
    "Y ya con está función, entonces se procede a encontrar la logitud promedio por resultado a medida que crece el número de resultados por paquete."
   ]
  },
  {
   "cell_type": "code",
   "execution_count": 20,
   "metadata": {},
   "outputs": [
    {
     "data": {
      "text/plain": [
       "[1.0,\n",
       " 0.7800000000000002,\n",
       " 0.7280000000000002,\n",
       " 0.7408000000000002,\n",
       " 0.7379200000000004,\n",
       " 0.725248000000001,\n",
       " 0.7317558857142854,\n",
       " 0.7322281599999997,\n",
       " 0.7251398542222197,\n",
       " 0.7282013184000155,\n",
       " 0.7296009532508705,\n",
       " 0.7250406980265763,\n",
       " 0.7262139535675174,\n",
       " 0.7280446511862934]"
      ]
     },
     "execution_count": 20,
     "metadata": {},
     "output_type": "execute_result"
    }
   ],
   "source": [
    "longitudes = []\n",
    "\n",
    "for N in range(1, 15):\n",
    "    pack = packet_probabilities(probabilidades, N)\n",
    "    code = hamming(pack)\n",
    "    longitud = longitud_por_resultado(code, N)\n",
    "    longitudes.append(longitud)\n",
    "    \n",
    "longitudes"
   ]
  },
  {
   "cell_type": "code",
   "execution_count": 21,
   "metadata": {},
   "outputs": [
    {
     "data": {
      "image/png": "[encoded data removed]",
      "text/plain": [
       "<Figure size 432x288 with 1 Axes>"
      ]
     },
     "metadata": {
      "needs_background": "light"
     },
     "output_type": "display_data"
    }
   ],
   "source": [
    "import matplotlib.pyplot as plt\n",
    "\n",
    "plt.plot(longitudes)\n",
    "plt.show()"
   ]
  }
 ],
 "metadata": {
  "kernelspec": {
   "display_name": "Python 3",
   "language": "python",
   "name": "python3"
  },
  "language_info": {
   "codemirror_mode": {
    "name": "ipython",
    "version": 3
   },
   "file_extension": ".py",
   "mimetype": "text/x-python",
   "name": "python",
   "nbconvert_exporter": "python",
   "pygments_lexer": "ipython3",
   "version": "3.8.3"
  }
 },
 "nbformat": 4,
 "nbformat_minor": 4
}
