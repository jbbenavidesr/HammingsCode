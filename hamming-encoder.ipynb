{
 "cells": [
  {
   "cell_type": "markdown",
   "metadata": {},
   "source": [
    "# Código de Hamming\n",
    "\n",
    "Cuando uno debe mandar un número dado de resultados, a cada uno de estos resultados se le debe asignar un nombre en binario. La primera aproximación es la de asignar a todos un nombre con la misma cantidad de bits, por ejemplo, asignando:\n",
    "\n",
    "- 00\n",
    "- 01\n",
    "- 10\n",
    "- 11\n",
    "\n",
    "a un grupo de 4 resultados. Lo que funciona bien cuando los 4 resultados tienen la misma probabilidad de salir. \n",
    "Sin embargo, esto nos da que por cada uno de los resultados se deben andar 2 bits y cuando las probabilidades son distintas es posible diseñar un método que permita asignar nombres más cortos a los resutados más probables y nombres largos a los menos probabilidad. Si eso se hace, es posible calcular la longitud promedio por resultado y obtener que en promedio los mensajes que se mandan son más cortos. Es ahí donde entra la codificación de Hamming para desarrollar el método más eficiente de asignar nombres a un grupo de resultados con distintas probabilidades conocidas.\n",
    "\n",
    "Si en el caso anterior se tiene que los resutados tienen probabilidades de 0.5, 0.25, 0.125, 0.125 respectivamente, entonces se les pueden asignar los siguientes nombres:\n",
    "\n",
    "- 0\n",
    "- 10\n",
    "- 110\n",
    "- 111\n",
    "\n",
    "En este caso lo que tenemos es que el resultado uno, que sale la mitad de las veces, tiene una longitud de apenas 1 bit. Hay algunos resultados que son más largos (3 bits en este caso) pero que aparecen rara vez por su baja probabilidad. En este caso es posible calcular la longitud promedio como:\n",
    "\n",
    "\\begin{equation}\n",
    "\\langle L \\rangle = \\sum_i p_i * l_i = 0.5 * 1 \\text{bit} + 0.25 * 2 \\text{bit} + 0.125 * 3 \\text{bit} + 0.125 * 3 \\text{bit} = 1.75 \\text{bit}\n",
    "\\end{equation}\n",
    "\n",
    "donde se puede ver que obtenemos que en promedio la lóngitud de un resultado es menor que 2 y se obtiene una códificación más eféctiva que la tradicional."
   ]
  },
  {
   "cell_type": "markdown",
   "metadata": {},
   "source": [
    "## ¿Cómo funciona?\n",
    "\n",
    "En este punto surgen 2 preguntas sobre el funcionamiento de esta codificación. En primer lugar, surge la pregunta de cómo se hace, cómo se encuentra está forma eficiente de codificar la información. En segundo surge la duda de cómo hago yo para interpretar una secuencia de datos. La primera de estas dudas se trabajará ahora con más detalle, entonces resolvamos aca la segunda.\n",
    "\n",
    "Con la forma tradicional, se sabe que en una secuencia de información que se recibe, cada cierto número de bits tengo un resultado. Por ejemplo, en el caso que se trabajo en el punto anterior, sé que cada 2 bits tengo un resultado. ¿Cómo hago con la otra codificación en la que algunos resultados tienen más y otros menos bits? La clave está en que ninguno de los nombres comienza igual, luego una secuencia dada de datos es única para ese resultado. Veamos un ejemplo.\n",
    "\n",
    "Usando el ejemplo de 4 resultados con las probabilidades dadas arriba, se recibe la siguiente secuencia de datos que contiene 8 bits:\n",
    "\n",
    "```\n",
    "00101110\n",
    "```\n",
    "\n",
    "Usando la codificación usual, en este caso se tiene que hay 4 resultados y cada 2 bits representa uno de estos. En cambio, con la codificación de Hamming lo que se debe hacer es leer de izquierda a derecha e ir viendo el coportamiento bit por bit. Al leer el primer bit, si es 0, entonces se tiene el primer resultado porque es e único que empieza con 0. Si es 1 se sabe que es uno de los otros 3, luego se mira el siguiente bit con el que se realiza el mismo proceso. Luego se separa de la siguiente forma:\n",
    "\n",
    "```\n",
    "0|0|10|111|0|\n",
    "```\n",
    "\n",
    "En este caso, se obtiene que con una misma secuencia de 8 digitos, ahora es posible mandar 5 resultados optimizando la forma de codificar la información. Esto puede ser muy útil cuando cuando se quiere enviar la información y esto tiene un costo con lo que es posible ahorrar."
   ]
  },
  {
   "cell_type": "markdown",
   "metadata": {},
   "source": [
    "## Algoritmo\n",
    "\n",
    "Ahora, para responder nuestra pregunta inicial, tenemos las siguientes condiciones:\n",
    "\n",
    "- **Entrada:** Una lista de probabilidades correspondientes a cada una de los posibles resultados.\n",
    "\n",
    "- **Salida:** El código de Hamming correspondiente a cada uno de dichos resultados.\n",
    "\n",
    "El proceso a usar para obtener la salida deseada es, entonces:\n",
    "\n",
    "1. Ordenar la lista de mayor a menor.\n",
    "\n",
    "2. Sumar las últimas 2 probabilidades de la lista.\n",
    "\n",
    "3. Reescriba la lista cambiando los 2 últimos elementos por la suma en el paso 2 y ordenarla de mayor a menor.\n",
    "\n",
    "4. Asocie la posición de la suma a los 2 elementos que la conforman.\n",
    "\n",
    "5. Repita pasos 2-4 hasta que la lista se haya reducido a una lista de 2 elementos.\n",
    "\n",
    "6. A los números de la lista original que conforman el elemento menor, asigneles un 0.\n",
    "\n",
    "7. A los otros, asigneles un 1.\n",
    "\n",
    "8. Repita los pasos 6 y 7 usando los dos menores números en las listas del proceso de reducción hasta que regrese a la lista original.\n",
    "\n",
    "En este punto, cada elemento de la lista original, tiene su código de hamming asociado. "
   ]
  },
  {
   "cell_type": "markdown",
   "metadata": {},
   "source": [
    "## Código\n",
    "### Entrada"
   ]
  },
  {
   "cell_type": "code",
   "execution_count": 3,
   "metadata": {},
   "outputs": [],
   "source": [
    "# Set up:\n",
    "entrada = (0.4, 0.2, 0.15, 0.1, 0.05, 0.05, 0.025, 0.025)\n",
    "N = len(entrada)"
   ]
  },
  {
   "cell_type": "markdown",
   "metadata": {},
   "source": [
    "### Primera parte: Reducción\n",
    "Acá definiré los pasos 1 a 5. Es importante almacenar el orden en este proceso de reducción."
   ]
  },
  {
   "cell_type": "code",
   "execution_count": 4,
   "metadata": {},
   "outputs": [],
   "source": [
    "def reduce_step(probabilities, history):\n",
    "    n = len(probabilities)\n",
    "    # Paso 1:\n",
    "    ordered = sorted(probabilities, reverse = True)\n",
    "    # Paso 2:\n",
    "    sum_last2 = ordered[-1] + ordered[-2]\n",
    "    # Paso 3:\n",
    "    nlist = [i for i in ordered[:-2]] + [sum_last2]\n",
    "    sorted_nlist = sorted(nlist, reverse = True)\n",
    "    # Paso 4:\n",
    "    index = sorted_nlist.index(sum_last2) \n",
    "    \n",
    "    for i, element in enumerate(history):\n",
    "        if int(element[-1]) < index:\n",
    "            history[i] += element[-1]\n",
    "        elif (int(element[-1]) >= index) and (int(element[-1]) < n-2):\n",
    "            history[i] += str(int(element[-1]) + 1)\n",
    "        elif int(element[-1]) >= n-2:\n",
    "            history[i] += str(index)\n",
    "        \n",
    "    return sorted_nlist\n",
    "    \n",
    "def reduce_list(probabilities):\n",
    "    n = 1\n",
    "    hist = [str(i) for i in range(N)]\n",
    "    step = sorted([i for i in probabilities], reverse=True)\n",
    "\n",
    "    # Paso 5:\n",
    "    while len(step) > 2:\n",
    "        step = reduce_step(step, hist)\n",
    "        n+=1\n",
    "    return hist, n"
   ]
  },
  {
   "cell_type": "markdown",
   "metadata": {},
   "source": [
    "### Segunda Parte: Almacenar y generar el código de hamming\n",
    "Ejecutamos los pasos del 1 al 5, y realizamos los pasos del 6 al 8"
   ]
  },
  {
   "cell_type": "code",
   "execution_count": 6,
   "metadata": {},
   "outputs": [],
   "source": [
    "def hamming(probabilities):\n",
    "    history, steps = reduce_list(probabilities)\n",
    "    hamming = ['' for p in probabilities]\n",
    "    \n",
    "    for step in range(steps):\n",
    "        for n, item in enumerate(history):\n",
    "            # Paso 6:\n",
    "            if int(item[-(step+1)]) == step:\n",
    "                hamming[n] += '0'\n",
    "            # Paso 7:\n",
    "            elif int(item[-(step+1)]) == step + 1:\n",
    "                hamming[n] += '1'\n",
    "\n",
    "    # Paso 8:\n",
    "    return hamming"
   ]
  },
  {
   "cell_type": "markdown",
   "metadata": {},
   "source": [
    "### Salida"
   ]
  },
  {
   "cell_type": "code",
   "execution_count": 5,
   "metadata": {},
   "outputs": [
    {
     "data": {
      "text/plain": [
       "['1', '000', '010', '0010', '0110', '0111', '00110', '00111']"
      ]
     },
     "execution_count": 5,
     "metadata": {},
     "output_type": "execute_result"
    }
   ],
   "source": [
    "hamming(list(entrada))"
   ]
  }
 ],
 "metadata": {
  "kernelspec": {
   "display_name": "Python 3",
   "language": "python",
   "name": "python3"
  },
  "language_info": {
   "codemirror_mode": {
    "name": "ipython",
    "version": 3
   },
   "file_extension": ".py",
   "mimetype": "text/x-python",
   "name": "python",
   "nbconvert_exporter": "python",
   "pygments_lexer": "ipython3",
   "version": "3.8.2"
  }
 },
 "nbformat": 4,
 "nbformat_minor": 4
}
